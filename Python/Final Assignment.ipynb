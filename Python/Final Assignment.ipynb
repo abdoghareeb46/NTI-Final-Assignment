{
 "cells": [
  {
   "cell_type": "markdown",
   "metadata": {},
   "source": [
    "# Importing libraries and Reading Data"
   ]
  },
  {
   "cell_type": "code",
   "execution_count": 38,
   "metadata": {},
   "outputs": [],
   "source": [
    "import pandas as pd\n",
    "import numpy as np\n",
    "import seaborn as sns\n",
    "import warnings\n",
    "from collections import Counter\n",
    "import matplotlib.pyplot as plt\n",
    "from sklearn import metrics\n",
    "from sklearn.preprocessing import LabelEncoder,StandardScaler\n",
    "from sklearn.model_selection import train_test_split,GridSearchCV\n",
    "from sklearn.linear_model import LogisticRegression\n",
    "from sklearn.neighbors import KNeighborsClassifier\n",
    "from sklearn.tree import DecisionTreeClassifier\n",
    "from sklearn.ensemble import RandomForestClassifier\n",
    "from sklearn.naive_bayes import GaussianNB\n",
    "from sklearn.tree import DecisionTreeClassifier\n",
    "from sklearn.svm import SVC\n",
    "from imblearn.over_sampling import RandomOverSampler\n",
    "from sklearn.metrics import accuracy_score,confusion_matrix,classification_report,jaccard_similarity_score,f1_score\n",
    "warnings.filterwarnings('ignore')\n",
    "warnings.simplefilter('ignore', DeprecationWarning)"
   ]
  },
  {
   "cell_type": "code",
   "execution_count": 2,
   "metadata": {},
   "outputs": [],
   "source": [
    "data=pd.read_csv('dataset.csv')\n",
    "data.drop('customerID',axis=1,inplace=True)"
   ]
  },
  {
   "cell_type": "code",
   "execution_count": 3,
   "metadata": {},
   "outputs": [
    {
     "data": {
      "text/html": [
       "<div>\n",
       "<style scoped>\n",
       "    .dataframe tbody tr th:only-of-type {\n",
       "        vertical-align: middle;\n",
       "    }\n",
       "\n",
       "    .dataframe tbody tr th {\n",
       "        vertical-align: top;\n",
       "    }\n",
       "\n",
       "    .dataframe thead th {\n",
       "        text-align: right;\n",
       "    }\n",
       "</style>\n",
       "<table border=\"1\" class=\"dataframe\">\n",
       "  <thead>\n",
       "    <tr style=\"text-align: right;\">\n",
       "      <th></th>\n",
       "      <th>gender</th>\n",
       "      <th>SeniorCitizen</th>\n",
       "      <th>Partner</th>\n",
       "      <th>Dependents</th>\n",
       "      <th>tenure</th>\n",
       "      <th>PhoneService</th>\n",
       "      <th>MultipleLines</th>\n",
       "      <th>InternetService</th>\n",
       "      <th>OnlineSecurity</th>\n",
       "      <th>OnlineBackup</th>\n",
       "      <th>DeviceProtection</th>\n",
       "      <th>TechSupport</th>\n",
       "      <th>StreamingTV</th>\n",
       "      <th>StreamingMovies</th>\n",
       "      <th>Contract</th>\n",
       "      <th>PaperlessBilling</th>\n",
       "      <th>PaymentMethod</th>\n",
       "      <th>MonthlyCharges</th>\n",
       "      <th>TotalCharges</th>\n",
       "      <th>Churn</th>\n",
       "    </tr>\n",
       "  </thead>\n",
       "  <tbody>\n",
       "    <tr>\n",
       "      <th>0</th>\n",
       "      <td>Female</td>\n",
       "      <td>NaN</td>\n",
       "      <td>Yes</td>\n",
       "      <td>No</td>\n",
       "      <td>NaN</td>\n",
       "      <td>No</td>\n",
       "      <td>No phone service</td>\n",
       "      <td>DSL</td>\n",
       "      <td>No</td>\n",
       "      <td>Yes</td>\n",
       "      <td>No</td>\n",
       "      <td>No</td>\n",
       "      <td>No</td>\n",
       "      <td>No</td>\n",
       "      <td>Month-to-month</td>\n",
       "      <td>Yes</td>\n",
       "      <td>Electronic check</td>\n",
       "      <td>29.85</td>\n",
       "      <td>29.85</td>\n",
       "      <td>No</td>\n",
       "    </tr>\n",
       "    <tr>\n",
       "      <th>1</th>\n",
       "      <td>Male</td>\n",
       "      <td>NaN</td>\n",
       "      <td>No</td>\n",
       "      <td>No</td>\n",
       "      <td>34.0</td>\n",
       "      <td>Yes</td>\n",
       "      <td>No</td>\n",
       "      <td>DSL</td>\n",
       "      <td>Yes</td>\n",
       "      <td>No</td>\n",
       "      <td>Yes</td>\n",
       "      <td>No</td>\n",
       "      <td>No</td>\n",
       "      <td>No</td>\n",
       "      <td>One year</td>\n",
       "      <td>No</td>\n",
       "      <td>Mailed check</td>\n",
       "      <td>56.95</td>\n",
       "      <td>1889.50</td>\n",
       "      <td>No</td>\n",
       "    </tr>\n",
       "    <tr>\n",
       "      <th>2</th>\n",
       "      <td>Male</td>\n",
       "      <td>NaN</td>\n",
       "      <td>No</td>\n",
       "      <td>No</td>\n",
       "      <td>2.0</td>\n",
       "      <td>Yes</td>\n",
       "      <td>No</td>\n",
       "      <td>DSL</td>\n",
       "      <td>Yes</td>\n",
       "      <td>Yes</td>\n",
       "      <td>No</td>\n",
       "      <td>No</td>\n",
       "      <td>No</td>\n",
       "      <td>No</td>\n",
       "      <td>Month-to-month</td>\n",
       "      <td>Yes</td>\n",
       "      <td>Mailed check</td>\n",
       "      <td>53.85</td>\n",
       "      <td>108.15</td>\n",
       "      <td>Yes</td>\n",
       "    </tr>\n",
       "    <tr>\n",
       "      <th>3</th>\n",
       "      <td>Male</td>\n",
       "      <td>NaN</td>\n",
       "      <td>No</td>\n",
       "      <td>No</td>\n",
       "      <td>45.0</td>\n",
       "      <td>No</td>\n",
       "      <td>No phone service</td>\n",
       "      <td>DSL</td>\n",
       "      <td>Yes</td>\n",
       "      <td>No</td>\n",
       "      <td>Yes</td>\n",
       "      <td>Yes</td>\n",
       "      <td>No</td>\n",
       "      <td>No</td>\n",
       "      <td>One year</td>\n",
       "      <td>No</td>\n",
       "      <td>Bank transfer (automatic)</td>\n",
       "      <td>42.30</td>\n",
       "      <td>1840.75</td>\n",
       "      <td>No</td>\n",
       "    </tr>\n",
       "    <tr>\n",
       "      <th>4</th>\n",
       "      <td>Female</td>\n",
       "      <td>NaN</td>\n",
       "      <td>No</td>\n",
       "      <td>No</td>\n",
       "      <td>2.0</td>\n",
       "      <td>Yes</td>\n",
       "      <td>No</td>\n",
       "      <td>Fiber optic</td>\n",
       "      <td>No</td>\n",
       "      <td>No</td>\n",
       "      <td>No</td>\n",
       "      <td>No</td>\n",
       "      <td>No</td>\n",
       "      <td>No</td>\n",
       "      <td>Month-to-month</td>\n",
       "      <td>Yes</td>\n",
       "      <td>Electronic check</td>\n",
       "      <td>70.70</td>\n",
       "      <td>151.65</td>\n",
       "      <td>Yes</td>\n",
       "    </tr>\n",
       "  </tbody>\n",
       "</table>\n",
       "</div>"
      ],
      "text/plain": [
       "   gender  SeniorCitizen Partner Dependents  tenure PhoneService  \\\n",
       "0  Female            NaN     Yes         No     NaN           No   \n",
       "1    Male            NaN      No         No    34.0          Yes   \n",
       "2    Male            NaN      No         No     2.0          Yes   \n",
       "3    Male            NaN      No         No    45.0           No   \n",
       "4  Female            NaN      No         No     2.0          Yes   \n",
       "\n",
       "      MultipleLines InternetService OnlineSecurity OnlineBackup  \\\n",
       "0  No phone service             DSL             No          Yes   \n",
       "1                No             DSL            Yes           No   \n",
       "2                No             DSL            Yes          Yes   \n",
       "3  No phone service             DSL            Yes           No   \n",
       "4                No     Fiber optic             No           No   \n",
       "\n",
       "  DeviceProtection TechSupport StreamingTV StreamingMovies        Contract  \\\n",
       "0               No          No          No              No  Month-to-month   \n",
       "1              Yes          No          No              No        One year   \n",
       "2               No          No          No              No  Month-to-month   \n",
       "3              Yes         Yes          No              No        One year   \n",
       "4               No          No          No              No  Month-to-month   \n",
       "\n",
       "  PaperlessBilling              PaymentMethod  MonthlyCharges  TotalCharges  \\\n",
       "0              Yes           Electronic check           29.85         29.85   \n",
       "1               No               Mailed check           56.95       1889.50   \n",
       "2              Yes               Mailed check           53.85        108.15   \n",
       "3               No  Bank transfer (automatic)           42.30       1840.75   \n",
       "4              Yes           Electronic check           70.70        151.65   \n",
       "\n",
       "  Churn  \n",
       "0    No  \n",
       "1    No  \n",
       "2   Yes  \n",
       "3    No  \n",
       "4   Yes  "
      ]
     },
     "execution_count": 3,
     "metadata": {},
     "output_type": "execute_result"
    }
   ],
   "source": [
    "data.head()"
   ]
  },
  {
   "cell_type": "markdown",
   "metadata": {},
   "source": [
    "###### **I have dropped CustomerID column as it's useless in Modeling**"
   ]
  },
  {
   "cell_type": "code",
   "execution_count": 47,
   "metadata": {
    "scrolled": true
   },
   "outputs": [
    {
     "data": {
      "text/plain": [
       "gender                0\n",
       "SeniorCitizen        43\n",
       "Partner               0\n",
       "Dependents            0\n",
       "tenure              147\n",
       "PhoneService          0\n",
       "MultipleLines         0\n",
       "InternetService       0\n",
       "OnlineSecurity        0\n",
       "OnlineBackup          0\n",
       "DeviceProtection      0\n",
       "TechSupport           0\n",
       "StreamingTV           0\n",
       "StreamingMovies       0\n",
       "Contract              0\n",
       "PaperlessBilling      0\n",
       "PaymentMethod         0\n",
       "MonthlyCharges        0\n",
       "TotalCharges          0\n",
       "Churn                 0\n",
       "dtype: int64"
      ]
     },
     "execution_count": 47,
     "metadata": {},
     "output_type": "execute_result"
    }
   ],
   "source": [
    "data.isnull().sum()"
   ]
  },
  {
   "cell_type": "code",
   "execution_count": 4,
   "metadata": {},
   "outputs": [
    {
     "name": "stdout",
     "output_type": "stream",
     "text": [
      "<class 'pandas.core.frame.DataFrame'>\n",
      "RangeIndex: 7043 entries, 0 to 7042\n",
      "Data columns (total 20 columns):\n",
      "gender              7043 non-null object\n",
      "SeniorCitizen       7000 non-null float64\n",
      "Partner             7043 non-null object\n",
      "Dependents          7043 non-null object\n",
      "tenure              6896 non-null float64\n",
      "PhoneService        7043 non-null object\n",
      "MultipleLines       7043 non-null object\n",
      "InternetService     7043 non-null object\n",
      "OnlineSecurity      7043 non-null object\n",
      "OnlineBackup        7043 non-null object\n",
      "DeviceProtection    7043 non-null object\n",
      "TechSupport         7043 non-null object\n",
      "StreamingTV         7043 non-null object\n",
      "StreamingMovies     7043 non-null object\n",
      "Contract            7043 non-null object\n",
      "PaperlessBilling    7043 non-null object\n",
      "PaymentMethod       7043 non-null object\n",
      "MonthlyCharges      7043 non-null float64\n",
      "TotalCharges        7043 non-null float64\n",
      "Churn               7043 non-null object\n",
      "dtypes: float64(4), object(16)\n",
      "memory usage: 1.1+ MB\n"
     ]
    }
   ],
   "source": [
    "data.info()"
   ]
  },
  {
   "cell_type": "code",
   "execution_count": 5,
   "metadata": {},
   "outputs": [
    {
     "data": {
      "text/html": [
       "<div>\n",
       "<style scoped>\n",
       "    .dataframe tbody tr th:only-of-type {\n",
       "        vertical-align: middle;\n",
       "    }\n",
       "\n",
       "    .dataframe tbody tr th {\n",
       "        vertical-align: top;\n",
       "    }\n",
       "\n",
       "    .dataframe thead th {\n",
       "        text-align: right;\n",
       "    }\n",
       "</style>\n",
       "<table border=\"1\" class=\"dataframe\">\n",
       "  <thead>\n",
       "    <tr style=\"text-align: right;\">\n",
       "      <th></th>\n",
       "      <th>SeniorCitizen</th>\n",
       "      <th>tenure</th>\n",
       "      <th>MonthlyCharges</th>\n",
       "      <th>TotalCharges</th>\n",
       "    </tr>\n",
       "  </thead>\n",
       "  <tbody>\n",
       "    <tr>\n",
       "      <th>count</th>\n",
       "      <td>7000.000000</td>\n",
       "      <td>6896.000000</td>\n",
       "      <td>7043.000000</td>\n",
       "      <td>7043.000000</td>\n",
       "    </tr>\n",
       "    <tr>\n",
       "      <th>mean</th>\n",
       "      <td>0.163143</td>\n",
       "      <td>33.041473</td>\n",
       "      <td>64.761692</td>\n",
       "      <td>2283.300440</td>\n",
       "    </tr>\n",
       "    <tr>\n",
       "      <th>std</th>\n",
       "      <td>0.369522</td>\n",
       "      <td>24.382260</td>\n",
       "      <td>30.090047</td>\n",
       "      <td>2265.000258</td>\n",
       "    </tr>\n",
       "    <tr>\n",
       "      <th>min</th>\n",
       "      <td>0.000000</td>\n",
       "      <td>1.000000</td>\n",
       "      <td>18.250000</td>\n",
       "      <td>18.800000</td>\n",
       "    </tr>\n",
       "    <tr>\n",
       "      <th>25%</th>\n",
       "      <td>0.000000</td>\n",
       "      <td>10.000000</td>\n",
       "      <td>35.500000</td>\n",
       "      <td>402.225000</td>\n",
       "    </tr>\n",
       "    <tr>\n",
       "      <th>50%</th>\n",
       "      <td>0.000000</td>\n",
       "      <td>30.000000</td>\n",
       "      <td>70.350000</td>\n",
       "      <td>1400.550000</td>\n",
       "    </tr>\n",
       "    <tr>\n",
       "      <th>75%</th>\n",
       "      <td>0.000000</td>\n",
       "      <td>56.000000</td>\n",
       "      <td>89.850000</td>\n",
       "      <td>3786.600000</td>\n",
       "    </tr>\n",
       "    <tr>\n",
       "      <th>max</th>\n",
       "      <td>1.000000</td>\n",
       "      <td>72.000000</td>\n",
       "      <td>118.750000</td>\n",
       "      <td>8684.800000</td>\n",
       "    </tr>\n",
       "  </tbody>\n",
       "</table>\n",
       "</div>"
      ],
      "text/plain": [
       "       SeniorCitizen       tenure  MonthlyCharges  TotalCharges\n",
       "count    7000.000000  6896.000000     7043.000000   7043.000000\n",
       "mean        0.163143    33.041473       64.761692   2283.300440\n",
       "std         0.369522    24.382260       30.090047   2265.000258\n",
       "min         0.000000     1.000000       18.250000     18.800000\n",
       "25%         0.000000    10.000000       35.500000    402.225000\n",
       "50%         0.000000    30.000000       70.350000   1400.550000\n",
       "75%         0.000000    56.000000       89.850000   3786.600000\n",
       "max         1.000000    72.000000      118.750000   8684.800000"
      ]
     },
     "execution_count": 5,
     "metadata": {},
     "output_type": "execute_result"
    }
   ],
   "source": [
    "data.describe()"
   ]
  },
  {
   "cell_type": "code",
   "execution_count": 6,
   "metadata": {},
   "outputs": [
    {
     "data": {
      "text/plain": [
       "No     5174\n",
       "Yes    1869\n",
       "Name: Churn, dtype: int64"
      ]
     },
     "execution_count": 6,
     "metadata": {},
     "output_type": "execute_result"
    }
   ],
   "source": [
    "data['Churn'].value_counts()"
   ]
  },
  {
   "cell_type": "markdown",
   "metadata": {},
   "source": [
    "### I have filled tenure with mean, but i will use dataset to predict SeniorCitizen values"
   ]
  },
  {
   "cell_type": "code",
   "execution_count": 4,
   "metadata": {},
   "outputs": [],
   "source": [
    "ten_mean=data['tenure'].mean()"
   ]
  },
  {
   "cell_type": "code",
   "execution_count": 5,
   "metadata": {},
   "outputs": [],
   "source": [
    "data['tenure']=data['tenure'].fillna(value=ten_mean)"
   ]
  },
  {
   "cell_type": "markdown",
   "metadata": {},
   "source": [
    "# Label Encoding"
   ]
  },
  {
   "cell_type": "code",
   "execution_count": 6,
   "metadata": {},
   "outputs": [],
   "source": [
    "encs = {}\n",
    "for col in data.columns:\n",
    "    if data[col].dtype == \"object\":\n",
    "        encs[col] = LabelEncoder()\n",
    "        data[col]   =encs[col].fit_transform(data[col])"
   ]
  },
  {
   "cell_type": "markdown",
   "metadata": {},
   "source": [
    "# Standardization"
   ]
  },
  {
   "cell_type": "code",
   "execution_count": 7,
   "metadata": {},
   "outputs": [],
   "source": [
    "sc=StandardScaler()\n",
    "data['tenure']=sc.fit_transform(data['tenure'].values.reshape(-1,1))\n",
    "data['MonthlyCharges']=sc.fit_transform(data['MonthlyCharges'].values.reshape(-1,1))\n",
    "data['TotalCharges']=sc.fit_transform(data['TotalCharges'].values.reshape(-1,1))"
   ]
  },
  {
   "cell_type": "markdown",
   "metadata": {},
   "source": [
    "#  Handling Missing values in SeniorCitizen by Choosing Best classifier to predict it's values"
   ]
  },
  {
   "cell_type": "code",
   "execution_count": 8,
   "metadata": {},
   "outputs": [],
   "source": [
    "df=data.copy()"
   ]
  },
  {
   "cell_type": "code",
   "execution_count": 9,
   "metadata": {},
   "outputs": [],
   "source": [
    "new_test=df[df['SeniorCitizen'].isnull()]"
   ]
  },
  {
   "cell_type": "code",
   "execution_count": 10,
   "metadata": {},
   "outputs": [],
   "source": [
    "new_test.drop('SeniorCitizen',axis=1,inplace=True)"
   ]
  },
  {
   "cell_type": "code",
   "execution_count": 11,
   "metadata": {},
   "outputs": [],
   "source": [
    "df.dropna(inplace=True)"
   ]
  },
  {
   "cell_type": "code",
   "execution_count": 12,
   "metadata": {},
   "outputs": [],
   "source": [
    "X=df.drop('SeniorCitizen',axis=1)\n",
    "y=df['SeniorCitizen']"
   ]
  },
  {
   "cell_type": "code",
   "execution_count": 13,
   "metadata": {},
   "outputs": [],
   "source": [
    "X_train, X_test, y_train, y_test = train_test_split(X, y, test_size=0.33, random_state=42)"
   ]
  },
  {
   "cell_type": "markdown",
   "metadata": {},
   "source": [
    "# Logistic Regression demo for SeniorCitizen"
   ]
  },
  {
   "cell_type": "code",
   "execution_count": 14,
   "metadata": {},
   "outputs": [
    {
     "name": "stdout",
     "output_type": "stream",
     "text": [
      " Accuracy of Testing:  83.81 % \n",
      " Accuracy of training 84.2 %\n",
      "[[1911   26]\n",
      " [ 348   25]]\n"
     ]
    }
   ],
   "source": [
    "lg=LogisticRegression(random_state=0).fit(X_train,y_train)\n",
    "lg_pred=lg.predict(X_test)\n",
    "\n",
    "print(' Accuracy of Testing: ',round(accuracy_score(y_test,lg_pred),4)*100,'%','\\n','Accuracy of training',\n",
    "      round(lg.score(X_train,y_train),3)*100,'%')\n",
    "print(confusion_matrix(y_test,lg_pred))\n",
    "#print(classification_report(y_test,lg_pred))"
   ]
  },
  {
   "cell_type": "markdown",
   "metadata": {},
   "source": [
    "# KNN demo for SeniorCitizen"
   ]
  },
  {
   "cell_type": "code",
   "execution_count": 16,
   "metadata": {
    "scrolled": true
   },
   "outputs": [
    {
     "name": "stdout",
     "output_type": "stream",
     "text": [
      "1 :  0.7523809523809524\n",
      "2 :  0.8181818181818182\n",
      "3 :  0.7917748917748918\n",
      "4 :  0.8281385281385282\n",
      "5 :  0.8225108225108225\n",
      "6 :  0.8329004329004329\n",
      "7 :  0.8233766233766234\n",
      "8 :  0.8346320346320346\n",
      "9 :  0.8354978354978355\n",
      "10 :  0.8350649350649351\n",
      "11 :  0.8337662337662337\n",
      "12 :  0.8329004329004329\n",
      "13 :  0.832034632034632\n",
      "14 :  0.832034632034632\n",
      "15 :  0.8316017316017316\n",
      "16 :  0.835930735930736\n",
      "17 :  0.8329004329004329\n",
      "18 :  0.8363636363636363\n",
      "19 :  0.8354978354978355\n",
      "20 :  0.8363636363636363\n",
      "21 :  0.8341991341991342\n",
      "22 :  0.8363636363636363\n",
      "23 :  0.8337662337662337\n",
      "24 :  0.8376623376623377\n",
      "25 :  0.835930735930736\n",
      "26 :  0.835930735930736\n",
      "27 :  0.8354978354978355\n",
      "28 :  0.8350649350649351\n",
      "29 :  0.8329004329004329\n",
      "30 :  0.8333333333333334\n",
      "31 :  0.8341991341991342\n",
      "32 :  0.8341991341991342\n",
      "33 :  0.8337662337662337\n",
      "34 :  0.8367965367965368\n",
      "35 :  0.8372294372294372\n",
      "36 :  0.8398268398268398\n",
      "37 :  0.8389610389610389\n",
      "38 :  0.8389610389610389\n",
      "39 :  0.8380952380952381\n",
      "40 :  0.8393939393939394\n",
      "41 :  0.8385281385281386\n",
      "42 :  0.8402597402597403\n",
      "43 :  0.8402597402597403\n",
      "44 :  0.8398268398268398\n",
      "45 :  0.8402597402597403\n",
      "46 :  0.8385281385281386\n",
      "47 :  0.8393939393939394\n",
      "48 :  0.8389610389610389\n",
      "49 :  0.8389610389610389\n",
      "50 :  0.8380952380952381\n",
      "51 :  0.8385281385281386\n",
      "52 :  0.8380952380952381\n",
      "53 :  0.8385281385281386\n",
      "54 :  0.8385281385281386\n",
      "55 :  0.8385281385281386\n",
      "56 :  0.8389610389610389\n",
      "57 :  0.8389610389610389\n",
      "58 :  0.8389610389610389\n",
      "59 :  0.8389610389610389\n",
      "60 :  0.8393939393939394\n",
      "61 :  0.8393939393939394\n",
      "62 :  0.8393939393939394\n",
      "63 :  0.8393939393939394\n",
      "64 :  0.8389610389610389\n",
      "65 :  0.8393939393939394\n",
      "66 :  0.8393939393939394\n",
      "67 :  0.8393939393939394\n",
      "68 :  0.8393939393939394\n",
      "69 :  0.8398268398268398\n",
      "70 :  0.8393939393939394\n",
      "71 :  0.8393939393939394\n",
      "72 :  0.8398268398268398\n",
      "73 :  0.8393939393939394\n",
      "74 :  0.8393939393939394\n",
      "75 :  0.8393939393939394\n",
      "76 :  0.8398268398268398\n",
      "77 :  0.8398268398268398\n",
      "78 :  0.8393939393939394\n",
      "79 :  0.8398268398268398\n",
      "80 :  0.8389610389610389\n",
      "81 :  0.8389610389610389\n",
      "82 :  0.8385281385281386\n",
      "83 :  0.8389610389610389\n",
      "84 :  0.8385281385281386\n",
      "85 :  0.8385281385281386\n",
      "86 :  0.8389610389610389\n",
      "87 :  0.8385281385281386\n",
      "88 :  0.8389610389610389\n",
      "89 :  0.8389610389610389\n",
      "90 :  0.8389610389610389\n",
      "91 :  0.8389610389610389\n",
      "92 :  0.8389610389610389\n",
      "93 :  0.8389610389610389\n",
      "94 :  0.8385281385281386\n",
      "95 :  0.8385281385281386\n",
      "96 :  0.8385281385281386\n",
      "97 :  0.8385281385281386\n",
      "98 :  0.8385281385281386\n",
      "99 :  0.8385281385281386\n"
     ]
    }
   ],
   "source": [
    "score=[]\n",
    "for k in range(1,100):\n",
    "    knn=KNeighborsClassifier(n_neighbors=k,weights='uniform')\n",
    "    knn.fit(X_train,y_train)\n",
    "    predKNN=knn.predict(X_test)\n",
    "    accuracy=metrics.accuracy_score(predKNN,y_test)\n",
    "    score.append(accuracy*100)\n",
    "    print (k,': ',accuracy)"
   ]
  },
  {
   "cell_type": "code",
   "execution_count": 17,
   "metadata": {},
   "outputs": [
    {
     "name": "stdout",
     "output_type": "stream",
     "text": [
      "Accuracy Score for KNN:  83.3 %\n"
     ]
    }
   ],
   "source": [
    "knn=KNeighborsClassifier(n_neighbors=6).fit(X_train,y_train)\n",
    "knn_pred=knn.predict(X_test)\n",
    "print('Accuracy Score for KNN: ',round(accuracy_score(y_test,knn_pred),3)*100,'%')"
   ]
  },
  {
   "cell_type": "code",
   "execution_count": 18,
   "metadata": {},
   "outputs": [
    {
     "name": "stdout",
     "output_type": "stream",
     "text": [
      "[[1894   43]\n",
      " [ 343   30]]\n",
      "              precision    recall  f1-score   support\n",
      "\n",
      "         0.0       0.85      0.98      0.91      1937\n",
      "         1.0       0.41      0.08      0.13       373\n",
      "\n",
      "   micro avg       0.83      0.83      0.83      2310\n",
      "   macro avg       0.63      0.53      0.52      2310\n",
      "weighted avg       0.78      0.83      0.78      2310\n",
      "\n"
     ]
    }
   ],
   "source": [
    "print(confusion_matrix(y_test,knn_pred))\n",
    "print(classification_report(y_test,knn_pred))\n"
   ]
  },
  {
   "cell_type": "markdown",
   "metadata": {},
   "source": [
    "##### i choose KNN to predict missing values for SeniorCitizen"
   ]
  },
  {
   "cell_type": "code",
   "execution_count": 19,
   "metadata": {},
   "outputs": [],
   "source": [
    "new_senior=knn.predict(new_test)"
   ]
  },
  {
   "cell_type": "code",
   "execution_count": 20,
   "metadata": {},
   "outputs": [],
   "source": [
    "new_test['SeniorCitizen']=new_senior"
   ]
  },
  {
   "cell_type": "code",
   "execution_count": 21,
   "metadata": {},
   "outputs": [
    {
     "data": {
      "text/html": [
       "<div>\n",
       "<style scoped>\n",
       "    .dataframe tbody tr th:only-of-type {\n",
       "        vertical-align: middle;\n",
       "    }\n",
       "\n",
       "    .dataframe tbody tr th {\n",
       "        vertical-align: top;\n",
       "    }\n",
       "\n",
       "    .dataframe thead th {\n",
       "        text-align: right;\n",
       "    }\n",
       "</style>\n",
       "<table border=\"1\" class=\"dataframe\">\n",
       "  <thead>\n",
       "    <tr style=\"text-align: right;\">\n",
       "      <th></th>\n",
       "      <th>gender</th>\n",
       "      <th>Partner</th>\n",
       "      <th>Dependents</th>\n",
       "      <th>tenure</th>\n",
       "      <th>PhoneService</th>\n",
       "      <th>MultipleLines</th>\n",
       "      <th>InternetService</th>\n",
       "      <th>OnlineSecurity</th>\n",
       "      <th>OnlineBackup</th>\n",
       "      <th>DeviceProtection</th>\n",
       "      <th>TechSupport</th>\n",
       "      <th>StreamingTV</th>\n",
       "      <th>StreamingMovies</th>\n",
       "      <th>Contract</th>\n",
       "      <th>PaperlessBilling</th>\n",
       "      <th>PaymentMethod</th>\n",
       "      <th>MonthlyCharges</th>\n",
       "      <th>TotalCharges</th>\n",
       "      <th>Churn</th>\n",
       "      <th>SeniorCitizen</th>\n",
       "    </tr>\n",
       "  </thead>\n",
       "  <tbody>\n",
       "    <tr>\n",
       "      <th>0</th>\n",
       "      <td>0</td>\n",
       "      <td>1</td>\n",
       "      <td>0</td>\n",
       "      <td>0.000000</td>\n",
       "      <td>0</td>\n",
       "      <td>1</td>\n",
       "      <td>0</td>\n",
       "      <td>0</td>\n",
       "      <td>2</td>\n",
       "      <td>0</td>\n",
       "      <td>0</td>\n",
       "      <td>0</td>\n",
       "      <td>0</td>\n",
       "      <td>0</td>\n",
       "      <td>1</td>\n",
       "      <td>2</td>\n",
       "      <td>-1.160323</td>\n",
       "      <td>-0.994971</td>\n",
       "      <td>0</td>\n",
       "      <td>0.0</td>\n",
       "    </tr>\n",
       "    <tr>\n",
       "      <th>1</th>\n",
       "      <td>1</td>\n",
       "      <td>0</td>\n",
       "      <td>0</td>\n",
       "      <td>0.039732</td>\n",
       "      <td>1</td>\n",
       "      <td>0</td>\n",
       "      <td>0</td>\n",
       "      <td>2</td>\n",
       "      <td>0</td>\n",
       "      <td>2</td>\n",
       "      <td>0</td>\n",
       "      <td>0</td>\n",
       "      <td>0</td>\n",
       "      <td>1</td>\n",
       "      <td>0</td>\n",
       "      <td>3</td>\n",
       "      <td>-0.259629</td>\n",
       "      <td>-0.173876</td>\n",
       "      <td>0</td>\n",
       "      <td>0.0</td>\n",
       "    </tr>\n",
       "    <tr>\n",
       "      <th>2</th>\n",
       "      <td>1</td>\n",
       "      <td>0</td>\n",
       "      <td>0</td>\n",
       "      <td>-1.286708</td>\n",
       "      <td>1</td>\n",
       "      <td>0</td>\n",
       "      <td>0</td>\n",
       "      <td>2</td>\n",
       "      <td>2</td>\n",
       "      <td>0</td>\n",
       "      <td>0</td>\n",
       "      <td>0</td>\n",
       "      <td>0</td>\n",
       "      <td>0</td>\n",
       "      <td>1</td>\n",
       "      <td>3</td>\n",
       "      <td>-0.362660</td>\n",
       "      <td>-0.960399</td>\n",
       "      <td>1</td>\n",
       "      <td>0.0</td>\n",
       "    </tr>\n",
       "    <tr>\n",
       "      <th>3</th>\n",
       "      <td>1</td>\n",
       "      <td>0</td>\n",
       "      <td>0</td>\n",
       "      <td>0.495696</td>\n",
       "      <td>0</td>\n",
       "      <td>1</td>\n",
       "      <td>0</td>\n",
       "      <td>2</td>\n",
       "      <td>0</td>\n",
       "      <td>2</td>\n",
       "      <td>2</td>\n",
       "      <td>0</td>\n",
       "      <td>0</td>\n",
       "      <td>1</td>\n",
       "      <td>0</td>\n",
       "      <td>0</td>\n",
       "      <td>-0.746535</td>\n",
       "      <td>-0.195400</td>\n",
       "      <td>0</td>\n",
       "      <td>0.0</td>\n",
       "    </tr>\n",
       "    <tr>\n",
       "      <th>4</th>\n",
       "      <td>0</td>\n",
       "      <td>0</td>\n",
       "      <td>0</td>\n",
       "      <td>-1.286708</td>\n",
       "      <td>1</td>\n",
       "      <td>0</td>\n",
       "      <td>1</td>\n",
       "      <td>0</td>\n",
       "      <td>0</td>\n",
       "      <td>0</td>\n",
       "      <td>0</td>\n",
       "      <td>0</td>\n",
       "      <td>0</td>\n",
       "      <td>0</td>\n",
       "      <td>1</td>\n",
       "      <td>2</td>\n",
       "      <td>0.197365</td>\n",
       "      <td>-0.941193</td>\n",
       "      <td>1</td>\n",
       "      <td>0.0</td>\n",
       "    </tr>\n",
       "  </tbody>\n",
       "</table>\n",
       "</div>"
      ],
      "text/plain": [
       "   gender  Partner  Dependents    tenure  PhoneService  MultipleLines  \\\n",
       "0       0        1           0  0.000000             0              1   \n",
       "1       1        0           0  0.039732             1              0   \n",
       "2       1        0           0 -1.286708             1              0   \n",
       "3       1        0           0  0.495696             0              1   \n",
       "4       0        0           0 -1.286708             1              0   \n",
       "\n",
       "   InternetService  OnlineSecurity  OnlineBackup  DeviceProtection  \\\n",
       "0                0               0             2                 0   \n",
       "1                0               2             0                 2   \n",
       "2                0               2             2                 0   \n",
       "3                0               2             0                 2   \n",
       "4                1               0             0                 0   \n",
       "\n",
       "   TechSupport  StreamingTV  StreamingMovies  Contract  PaperlessBilling  \\\n",
       "0            0            0                0         0                 1   \n",
       "1            0            0                0         1                 0   \n",
       "2            0            0                0         0                 1   \n",
       "3            2            0                0         1                 0   \n",
       "4            0            0                0         0                 1   \n",
       "\n",
       "   PaymentMethod  MonthlyCharges  TotalCharges  Churn  SeniorCitizen  \n",
       "0              2       -1.160323     -0.994971      0            0.0  \n",
       "1              3       -0.259629     -0.173876      0            0.0  \n",
       "2              3       -0.362660     -0.960399      1            0.0  \n",
       "3              0       -0.746535     -0.195400      0            0.0  \n",
       "4              2        0.197365     -0.941193      1            0.0  "
      ]
     },
     "execution_count": 21,
     "metadata": {},
     "output_type": "execute_result"
    }
   ],
   "source": [
    "new_test.head()"
   ]
  },
  {
   "cell_type": "markdown",
   "metadata": {},
   "source": [
    "## Filling SeniorCitizen with predicted values"
   ]
  },
  {
   "cell_type": "code",
   "execution_count": 22,
   "metadata": {},
   "outputs": [],
   "source": [
    "data['SeniorCitizen']=data['SeniorCitizen'].fillna(new_test['SeniorCitizen'])"
   ]
  },
  {
   "cell_type": "code",
   "execution_count": 29,
   "metadata": {},
   "outputs": [
    {
     "data": {
      "text/html": [
       "<div>\n",
       "<style scoped>\n",
       "    .dataframe tbody tr th:only-of-type {\n",
       "        vertical-align: middle;\n",
       "    }\n",
       "\n",
       "    .dataframe tbody tr th {\n",
       "        vertical-align: top;\n",
       "    }\n",
       "\n",
       "    .dataframe thead th {\n",
       "        text-align: right;\n",
       "    }\n",
       "</style>\n",
       "<table border=\"1\" class=\"dataframe\">\n",
       "  <thead>\n",
       "    <tr style=\"text-align: right;\">\n",
       "      <th></th>\n",
       "      <th>gender</th>\n",
       "      <th>SeniorCitizen</th>\n",
       "      <th>Partner</th>\n",
       "      <th>Dependents</th>\n",
       "      <th>tenure</th>\n",
       "      <th>PhoneService</th>\n",
       "      <th>MultipleLines</th>\n",
       "      <th>InternetService</th>\n",
       "      <th>OnlineSecurity</th>\n",
       "      <th>OnlineBackup</th>\n",
       "      <th>DeviceProtection</th>\n",
       "      <th>TechSupport</th>\n",
       "      <th>StreamingTV</th>\n",
       "      <th>StreamingMovies</th>\n",
       "      <th>Contract</th>\n",
       "      <th>PaperlessBilling</th>\n",
       "      <th>PaymentMethod</th>\n",
       "      <th>MonthlyCharges</th>\n",
       "      <th>TotalCharges</th>\n",
       "      <th>Churn</th>\n",
       "    </tr>\n",
       "  </thead>\n",
       "  <tbody>\n",
       "    <tr>\n",
       "      <th>0</th>\n",
       "      <td>0</td>\n",
       "      <td>0.0</td>\n",
       "      <td>1</td>\n",
       "      <td>0</td>\n",
       "      <td>0.000000</td>\n",
       "      <td>0</td>\n",
       "      <td>1</td>\n",
       "      <td>0</td>\n",
       "      <td>0</td>\n",
       "      <td>2</td>\n",
       "      <td>0</td>\n",
       "      <td>0</td>\n",
       "      <td>0</td>\n",
       "      <td>0</td>\n",
       "      <td>0</td>\n",
       "      <td>1</td>\n",
       "      <td>2</td>\n",
       "      <td>-1.160323</td>\n",
       "      <td>-0.994971</td>\n",
       "      <td>0</td>\n",
       "    </tr>\n",
       "    <tr>\n",
       "      <th>1</th>\n",
       "      <td>1</td>\n",
       "      <td>0.0</td>\n",
       "      <td>0</td>\n",
       "      <td>0</td>\n",
       "      <td>0.039732</td>\n",
       "      <td>1</td>\n",
       "      <td>0</td>\n",
       "      <td>0</td>\n",
       "      <td>2</td>\n",
       "      <td>0</td>\n",
       "      <td>2</td>\n",
       "      <td>0</td>\n",
       "      <td>0</td>\n",
       "      <td>0</td>\n",
       "      <td>1</td>\n",
       "      <td>0</td>\n",
       "      <td>3</td>\n",
       "      <td>-0.259629</td>\n",
       "      <td>-0.173876</td>\n",
       "      <td>0</td>\n",
       "    </tr>\n",
       "    <tr>\n",
       "      <th>2</th>\n",
       "      <td>1</td>\n",
       "      <td>0.0</td>\n",
       "      <td>0</td>\n",
       "      <td>0</td>\n",
       "      <td>-1.286708</td>\n",
       "      <td>1</td>\n",
       "      <td>0</td>\n",
       "      <td>0</td>\n",
       "      <td>2</td>\n",
       "      <td>2</td>\n",
       "      <td>0</td>\n",
       "      <td>0</td>\n",
       "      <td>0</td>\n",
       "      <td>0</td>\n",
       "      <td>0</td>\n",
       "      <td>1</td>\n",
       "      <td>3</td>\n",
       "      <td>-0.362660</td>\n",
       "      <td>-0.960399</td>\n",
       "      <td>1</td>\n",
       "    </tr>\n",
       "    <tr>\n",
       "      <th>3</th>\n",
       "      <td>1</td>\n",
       "      <td>0.0</td>\n",
       "      <td>0</td>\n",
       "      <td>0</td>\n",
       "      <td>0.495696</td>\n",
       "      <td>0</td>\n",
       "      <td>1</td>\n",
       "      <td>0</td>\n",
       "      <td>2</td>\n",
       "      <td>0</td>\n",
       "      <td>2</td>\n",
       "      <td>2</td>\n",
       "      <td>0</td>\n",
       "      <td>0</td>\n",
       "      <td>1</td>\n",
       "      <td>0</td>\n",
       "      <td>0</td>\n",
       "      <td>-0.746535</td>\n",
       "      <td>-0.195400</td>\n",
       "      <td>0</td>\n",
       "    </tr>\n",
       "    <tr>\n",
       "      <th>4</th>\n",
       "      <td>0</td>\n",
       "      <td>0.0</td>\n",
       "      <td>0</td>\n",
       "      <td>0</td>\n",
       "      <td>-1.286708</td>\n",
       "      <td>1</td>\n",
       "      <td>0</td>\n",
       "      <td>1</td>\n",
       "      <td>0</td>\n",
       "      <td>0</td>\n",
       "      <td>0</td>\n",
       "      <td>0</td>\n",
       "      <td>0</td>\n",
       "      <td>0</td>\n",
       "      <td>0</td>\n",
       "      <td>1</td>\n",
       "      <td>2</td>\n",
       "      <td>0.197365</td>\n",
       "      <td>-0.941193</td>\n",
       "      <td>1</td>\n",
       "    </tr>\n",
       "  </tbody>\n",
       "</table>\n",
       "</div>"
      ],
      "text/plain": [
       "   gender  SeniorCitizen  Partner  Dependents    tenure  PhoneService  \\\n",
       "0       0            0.0        1           0  0.000000             0   \n",
       "1       1            0.0        0           0  0.039732             1   \n",
       "2       1            0.0        0           0 -1.286708             1   \n",
       "3       1            0.0        0           0  0.495696             0   \n",
       "4       0            0.0        0           0 -1.286708             1   \n",
       "\n",
       "   MultipleLines  InternetService  OnlineSecurity  OnlineBackup  \\\n",
       "0              1                0               0             2   \n",
       "1              0                0               2             0   \n",
       "2              0                0               2             2   \n",
       "3              1                0               2             0   \n",
       "4              0                1               0             0   \n",
       "\n",
       "   DeviceProtection  TechSupport  StreamingTV  StreamingMovies  Contract  \\\n",
       "0                 0            0            0                0         0   \n",
       "1                 2            0            0                0         1   \n",
       "2                 0            0            0                0         0   \n",
       "3                 2            2            0                0         1   \n",
       "4                 0            0            0                0         0   \n",
       "\n",
       "   PaperlessBilling  PaymentMethod  MonthlyCharges  TotalCharges  Churn  \n",
       "0                 1              2       -1.160323     -0.994971      0  \n",
       "1                 0              3       -0.259629     -0.173876      0  \n",
       "2                 1              3       -0.362660     -0.960399      1  \n",
       "3                 0              0       -0.746535     -0.195400      0  \n",
       "4                 1              2        0.197365     -0.941193      1  "
      ]
     },
     "execution_count": 29,
     "metadata": {},
     "output_type": "execute_result"
    }
   ],
   "source": [
    "data.head()"
   ]
  },
  {
   "cell_type": "markdown",
   "metadata": {},
   "source": [
    "### Check for any missing values"
   ]
  },
  {
   "cell_type": "code",
   "execution_count": 30,
   "metadata": {
    "scrolled": true
   },
   "outputs": [
    {
     "data": {
      "text/plain": [
       "gender              0\n",
       "SeniorCitizen       0\n",
       "Partner             0\n",
       "Dependents          0\n",
       "tenure              0\n",
       "PhoneService        0\n",
       "MultipleLines       0\n",
       "InternetService     0\n",
       "OnlineSecurity      0\n",
       "OnlineBackup        0\n",
       "DeviceProtection    0\n",
       "TechSupport         0\n",
       "StreamingTV         0\n",
       "StreamingMovies     0\n",
       "Contract            0\n",
       "PaperlessBilling    0\n",
       "PaymentMethod       0\n",
       "MonthlyCharges      0\n",
       "TotalCharges        0\n",
       "Churn               0\n",
       "dtype: int64"
      ]
     },
     "execution_count": 30,
     "metadata": {},
     "output_type": "execute_result"
    }
   ],
   "source": [
    "data.isnull().sum()"
   ]
  },
  {
   "cell_type": "code",
   "execution_count": 28,
   "metadata": {},
   "outputs": [
    {
     "data": {
      "text/plain": [
       "<matplotlib.axes._subplots.AxesSubplot at 0x20c4088e278>"
      ]
     },
     "execution_count": 28,
     "metadata": {},
     "output_type": "execute_result"
    },
    {
     "data": {
      "image/png": "[encoded data removed]",
      "text/plain": [
       "<Figure size 1080x720 with 2 Axes>"
      ]
     },
     "metadata": {},
     "output_type": "display_data"
    }
   ],
   "source": [
    "plt.figure(figsize=(15,10))\n",
    "sns.heatmap(data.corr(),annot=True)"
   ]
  },
  {
   "cell_type": "markdown",
   "metadata": {},
   "source": [
    "# Working with All data\n",
    "- **Train/Test split for data.**\n",
    "- **Feed models with training and testing data.**\n",
    "- **Estimate Accuracy for models.**"
   ]
  },
  {
   "cell_type": "code",
   "execution_count": 23,
   "metadata": {},
   "outputs": [],
   "source": [
    "X=data.drop('Churn',axis=1)\n",
    "y=data['Churn']"
   ]
  },
  {
   "cell_type": "code",
   "execution_count": 24,
   "metadata": {},
   "outputs": [],
   "source": [
    "X_train, X_test, y_train, y_test = train_test_split(X, y, test_size=0.33, random_state=42)"
   ]
  },
  {
   "cell_type": "markdown",
   "metadata": {},
   "source": [
    "# Logistic Regression "
   ]
  },
  {
   "cell_type": "code",
   "execution_count": 25,
   "metadata": {},
   "outputs": [
    {
     "name": "stdout",
     "output_type": "stream",
     "text": [
      " Accuracy of Testing:  80.99 %\n",
      "[[1563  134]\n",
      " [ 308  320]]\n",
      "              precision    recall  f1-score   support\n",
      "\n",
      "           0       0.84      0.92      0.88      1697\n",
      "           1       0.70      0.51      0.59       628\n",
      "\n",
      "   micro avg       0.81      0.81      0.81      2325\n",
      "   macro avg       0.77      0.72      0.73      2325\n",
      "weighted avg       0.80      0.81      0.80      2325\n",
      "\n"
     ]
    }
   ],
   "source": [
    "lg_model=LogisticRegression(C=0.01,solver='saga',max_iter=999999999).fit(X_train,y_train)\n",
    "lg_prediction=lg_model.predict(X_test)\n",
    "print(' Accuracy of Testing: ',round(accuracy_score(y_test,lg_prediction),4)*100,'%')\n",
    "print(confusion_matrix(y_test,lg_prediction))\n",
    "print(classification_report(y_test,lg_prediction))\n",
    "#print(lg_model.score(X_train,y_train))"
   ]
  },
  {
   "cell_type": "markdown",
   "metadata": {},
   "source": [
    "# Logistic Regression with Balanced weight for classes"
   ]
  },
  {
   "cell_type": "code",
   "execution_count": 26,
   "metadata": {},
   "outputs": [
    {
     "name": "stdout",
     "output_type": "stream",
     "text": [
      " Accuracy of Testing:  74.24 %\n",
      "[[1209  488]\n",
      " [ 111  517]]\n",
      "              precision    recall  f1-score   support\n",
      "\n",
      "           0       0.92      0.71      0.80      1697\n",
      "           1       0.51      0.82      0.63       628\n",
      "\n",
      "   micro avg       0.74      0.74      0.74      2325\n",
      "   macro avg       0.72      0.77      0.72      2325\n",
      "weighted avg       0.81      0.74      0.76      2325\n",
      "\n"
     ]
    }
   ],
   "source": [
    "lg_balanced=LogisticRegression(C=0.01,class_weight='balanced',solver='saga',max_iter=999999999).fit(X_train,y_train)\n",
    "lg_pred_balanced=lg_balanced.predict(X_test)\n",
    "print(' Accuracy of Testing: ',round(accuracy_score(y_test,lg_pred_balanced),4)*100,'%')\n",
    "print(confusion_matrix(y_test,lg_pred_balanced))\n",
    "print(classification_report(y_test,lg_pred_balanced))\n",
    "#print(lg_model.score(X_train,y_train))"
   ]
  },
  {
   "cell_type": "markdown",
   "metadata": {},
   "source": [
    "# KNN"
   ]
  },
  {
   "cell_type": "code",
   "execution_count": 33,
   "metadata": {
    "scrolled": true
   },
   "outputs": [
    {
     "name": "stdout",
     "output_type": "stream",
     "text": [
      "1 :  0.7217204301075268\n",
      "2 :  0.7582795698924731\n",
      "3 :  0.7552688172043011\n",
      "4 :  0.7681720430107527\n",
      "5 :  0.76\n",
      "6 :  0.7617204301075269\n",
      "7 :  0.7612903225806451\n",
      "8 :  0.7668817204301075\n",
      "9 :  0.7703225806451612\n",
      "10 :  0.770752688172043\n",
      "11 :  0.7741935483870968\n",
      "12 :  0.7716129032258064\n",
      "13 :  0.7776344086021505\n",
      "14 :  0.7746236559139785\n",
      "15 :  0.7845161290322581\n",
      "16 :  0.7827956989247312\n",
      "17 :  0.7870967741935484\n",
      "18 :  0.7879569892473118\n",
      "19 :  0.7879569892473118\n",
      "20 :  0.786236559139785\n",
      "21 :  0.7883870967741935\n",
      "22 :  0.786236559139785\n",
      "23 :  0.7870967741935484\n",
      "24 :  0.7870967741935484\n",
      "25 :  0.789247311827957\n",
      "26 :  0.7905376344086021\n",
      "27 :  0.7926881720430108\n",
      "28 :  0.7939784946236559\n",
      "29 :  0.7939784946236559\n",
      "30 :  0.7965591397849462\n",
      "31 :  0.7939784946236559\n",
      "32 :  0.792258064516129\n",
      "33 :  0.7935483870967742\n",
      "34 :  0.7939784946236559\n",
      "35 :  0.7896774193548387\n",
      "36 :  0.7926881720430108\n",
      "37 :  0.7931182795698924\n",
      "38 :  0.7948387096774193\n",
      "39 :  0.7948387096774193\n",
      "40 :  0.7939784946236559\n",
      "41 :  0.7944086021505377\n",
      "42 :  0.7918279569892474\n",
      "43 :  0.7935483870967742\n",
      "44 :  0.7909677419354839\n",
      "45 :  0.7939784946236559\n",
      "46 :  0.7935483870967742\n",
      "47 :  0.792258064516129\n",
      "48 :  0.7913978494623656\n",
      "49 :  0.7944086021505377\n",
      "50 :  0.7918279569892474\n",
      "51 :  0.7944086021505377\n",
      "52 :  0.7913978494623656\n",
      "53 :  0.7926881720430108\n",
      "54 :  0.7935483870967742\n",
      "55 :  0.7948387096774193\n",
      "56 :  0.7926881720430108\n",
      "57 :  0.7944086021505377\n",
      "58 :  0.7905376344086021\n",
      "59 :  0.7961290322580645\n",
      "60 :  0.7952688172043011\n",
      "61 :  0.7935483870967742\n",
      "62 :  0.7956989247311828\n",
      "63 :  0.7952688172043011\n",
      "64 :  0.796989247311828\n",
      "65 :  0.7965591397849462\n",
      "66 :  0.7965591397849462\n",
      "67 :  0.7956989247311828\n",
      "68 :  0.7965591397849462\n",
      "69 :  0.7944086021505377\n",
      "70 :  0.7952688172043011\n",
      "71 :  0.7956989247311828\n",
      "72 :  0.7956989247311828\n",
      "73 :  0.7956989247311828\n",
      "74 :  0.7952688172043011\n",
      "75 :  0.7948387096774193\n",
      "76 :  0.7961290322580645\n",
      "77 :  0.7935483870967742\n",
      "78 :  0.7944086021505377\n",
      "79 :  0.7948387096774193\n",
      "80 :  0.7965591397849462\n",
      "81 :  0.7965591397849462\n",
      "82 :  0.7982795698924732\n",
      "83 :  0.7991397849462366\n",
      "84 :  0.7987096774193548\n",
      "85 :  0.7995698924731183\n",
      "86 :  0.7987096774193548\n",
      "87 :  0.8008602150537635\n",
      "88 :  0.7995698924731183\n",
      "89 :  0.7982795698924732\n",
      "90 :  0.7982795698924732\n",
      "91 :  0.7995698924731183\n",
      "92 :  0.7974193548387096\n",
      "93 :  0.7974193548387096\n",
      "94 :  0.7978494623655914\n",
      "95 :  0.7991397849462366\n",
      "96 :  0.8008602150537635\n",
      "97 :  0.8017204301075269\n",
      "98 :  0.8017204301075269\n",
      "99 :  0.8004301075268817\n"
     ]
    }
   ],
   "source": [
    "score=[]\n",
    "for k in range(1,100):\n",
    "    knn=KNeighborsClassifier(n_neighbors=k,weights='uniform')\n",
    "    knn.fit(X_train,y_train)\n",
    "    predKNN=knn.predict(X_test)\n",
    "    accuracy=metrics.accuracy_score(predKNN,y_test)\n",
    "    score.append(accuracy*100)\n",
    "    print (k,': ',accuracy)"
   ]
  },
  {
   "cell_type": "code",
   "execution_count": 27,
   "metadata": {},
   "outputs": [],
   "source": [
    "knn=KNeighborsClassifier(n_neighbors=26).fit(X_train,y_train)\n",
    "knn_pred=knn.predict(X_test)"
   ]
  },
  {
   "cell_type": "code",
   "execution_count": 28,
   "metadata": {},
   "outputs": [
    {
     "name": "stdout",
     "output_type": "stream",
     "text": [
      " Accuracy of Testing:  79.05 %\n",
      "[[1523  174]\n",
      " [ 313  315]]\n"
     ]
    }
   ],
   "source": [
    "print(' Accuracy of Testing: ',round(accuracy_score(y_test,knn_pred),4)*100,'%')\n",
    "print(confusion_matrix(y_test,knn_pred))"
   ]
  },
  {
   "cell_type": "markdown",
   "metadata": {},
   "source": [
    "# Random Forest "
   ]
  },
  {
   "cell_type": "code",
   "execution_count": 29,
   "metadata": {},
   "outputs": [
    {
     "name": "stdout",
     "output_type": "stream",
     "text": [
      "Accuracy Score :  78.5 %\n",
      "[[1555  142]\n",
      " [ 358  270]]\n",
      "              precision    recall  f1-score   support\n",
      "\n",
      "           0       0.81      0.92      0.86      1697\n",
      "           1       0.66      0.43      0.52       628\n",
      "\n",
      "   micro avg       0.78      0.78      0.78      2325\n",
      "   macro avg       0.73      0.67      0.69      2325\n",
      "weighted avg       0.77      0.78      0.77      2325\n",
      "\n"
     ]
    }
   ],
   "source": [
    "rfc=RandomForestClassifier().fit(X_train,y_train)\n",
    "rfc_pred=rfc.predict(X_test)\n",
    "print('Accuracy Score : ',round(accuracy_score(y_test,rfc_pred),3)*100,'%')\n",
    "print(confusion_matrix(y_test,rfc_pred))\n",
    "print(classification_report(y_test,rfc_pred))"
   ]
  },
  {
   "cell_type": "markdown",
   "metadata": {},
   "source": [
    "# SVM "
   ]
  },
  {
   "cell_type": "code",
   "execution_count": 30,
   "metadata": {},
   "outputs": [
    {
     "name": "stdout",
     "output_type": "stream",
     "text": [
      "Accuracy Score :  80.5 %\n",
      "[[1579  118]\n",
      " [ 336  292]]\n",
      "              precision    recall  f1-score   support\n",
      "\n",
      "           0       0.82      0.93      0.87      1697\n",
      "           1       0.71      0.46      0.56       628\n",
      "\n",
      "   micro avg       0.80      0.80      0.80      2325\n",
      "   macro avg       0.77      0.70      0.72      2325\n",
      "weighted avg       0.79      0.80      0.79      2325\n",
      "\n"
     ]
    }
   ],
   "source": [
    "svm=SVC().fit(X_train,y_train)\n",
    "svm_pred=svm.predict(X_test)\n",
    "print('Accuracy Score : ',round(accuracy_score(y_test,svm_pred),3)*100,'%')\n",
    "print(confusion_matrix(y_test,svm_pred))\n",
    "print(classification_report(y_test,svm_pred))"
   ]
  },
  {
   "cell_type": "code",
   "execution_count": null,
   "metadata": {},
   "outputs": [],
   "source": []
  },
  {
   "cell_type": "markdown",
   "metadata": {},
   "source": [
    "# Decision Tree"
   ]
  },
  {
   "cell_type": "code",
   "execution_count": 31,
   "metadata": {},
   "outputs": [
    {
     "name": "stdout",
     "output_type": "stream",
     "text": [
      "Accuracy Score :  73.5 %\n",
      "[[1388  309]\n",
      " [ 306  322]]\n",
      "              precision    recall  f1-score   support\n",
      "\n",
      "           0       0.82      0.82      0.82      1697\n",
      "           1       0.51      0.51      0.51       628\n",
      "\n",
      "   micro avg       0.74      0.74      0.74      2325\n",
      "   macro avg       0.66      0.67      0.67      2325\n",
      "weighted avg       0.74      0.74      0.74      2325\n",
      "\n"
     ]
    }
   ],
   "source": [
    "dt=DecisionTreeClassifier().fit(X_train,y_train)\n",
    "dt_pred=dt.predict(X_test)\n",
    "print('Accuracy Score : ',round(accuracy_score(y_test,dt_pred),3)*100,'%')\n",
    "print(confusion_matrix(y_test,dt_pred))\n",
    "print(classification_report(y_test,dt_pred))"
   ]
  },
  {
   "cell_type": "code",
   "execution_count": null,
   "metadata": {},
   "outputs": [],
   "source": []
  },
  {
   "cell_type": "markdown",
   "metadata": {},
   "source": [
    "# Choosing best parameters for Random Forest Tree"
   ]
  },
  {
   "cell_type": "code",
   "execution_count": 41,
   "metadata": {},
   "outputs": [
    {
     "data": {
      "text/plain": [
       "GridSearchCV(cv=None, error_score='raise',\n",
       "       estimator=RandomForestClassifier(bootstrap=True, class_weight=None, criterion='gini',\n",
       "            max_depth=None, max_features='auto', max_leaf_nodes=None,\n",
       "            min_impurity_decrease=0.0, min_impurity_split=None,\n",
       "            min_samples_leaf=1, min_samples_split=2,\n",
       "            min_weight_fraction_leaf=0.0, n_estimators=10, n_jobs=1,\n",
       "            oob_score=False, random_state=None, verbose=0,\n",
       "            warm_start=False),\n",
       "       fit_params=None, iid=True, n_jobs=1,\n",
       "       param_grid={'n_estimators': [50, 100, 150, 200], 'max_depth': [None, 30, 15, 5], 'max_features': ['auto', 'sqrt', 'log2'], 'min_samples_leaf': [1, 20, 50, 100]},\n",
       "       pre_dispatch='2*n_jobs', refit=True, return_train_score='warn',\n",
       "       scoring='accuracy', verbose=0)"
      ]
     },
     "execution_count": 41,
     "metadata": {},
     "output_type": "execute_result"
    }
   ],
   "source": [
    "grid_values={'n_estimators':[50,100,150,200],'max_depth':[None,30,15,5],\n",
    "               'max_features':['auto','sqrt','log2'],'min_samples_leaf':[1,20,50,100]}\n",
    "grid_rf = GridSearchCV(rfc,param_grid=grid_values,scoring='accuracy')\n",
    "grid_rf.fit(X_train, y_train)"
   ]
  },
  {
   "cell_type": "code",
   "execution_count": 42,
   "metadata": {},
   "outputs": [
    {
     "data": {
      "text/plain": [
       "{'max_depth': None,\n",
       " 'max_features': 'log2',\n",
       " 'min_samples_leaf': 20,\n",
       " 'n_estimators': 100}"
      ]
     },
     "execution_count": 42,
     "metadata": {},
     "output_type": "execute_result"
    }
   ],
   "source": [
    "best_param=grid_rf.best_params_\n",
    "best_param"
   ]
  },
  {
   "cell_type": "markdown",
   "metadata": {},
   "source": [
    "# Train Random Forest again after getting best parameters"
   ]
  },
  {
   "cell_type": "code",
   "execution_count": 32,
   "metadata": {},
   "outputs": [
    {
     "name": "stdout",
     "output_type": "stream",
     "text": [
      "Accuracy Score :  80.60000000000001 %\n",
      "[[1573  124]\n",
      " [ 326  302]]\n",
      "              precision    recall  f1-score   support\n",
      "\n",
      "           0       0.83      0.93      0.87      1697\n",
      "           1       0.71      0.48      0.57       628\n",
      "\n",
      "   micro avg       0.81      0.81      0.81      2325\n",
      "   macro avg       0.77      0.70      0.72      2325\n",
      "weighted avg       0.80      0.81      0.79      2325\n",
      "\n"
     ]
    }
   ],
   "source": [
    "rfc=RandomForestClassifier(max_depth=None,max_features='log2',min_samples_leaf=20,n_estimators=100).fit(X_train,y_train)\n",
    "rfc_pred=rfc.predict(X_test)\n",
    "print('Accuracy Score : ',round(accuracy_score(y_test,rfc_pred),3)*100,'%')\n",
    "print(confusion_matrix(y_test,rfc_pred))\n",
    "print(classification_report(y_test,rfc_pred))"
   ]
  },
  {
   "cell_type": "markdown",
   "metadata": {},
   "source": [
    "# Naive Bayes"
   ]
  },
  {
   "cell_type": "code",
   "execution_count": 33,
   "metadata": {},
   "outputs": [
    {
     "name": "stdout",
     "output_type": "stream",
     "text": [
      "Accuracy Score:  75.6\n",
      "[[1273  424]\n",
      " [ 143  485]]\n",
      "              precision    recall  f1-score   support\n",
      "\n",
      "           0       0.90      0.75      0.82      1697\n",
      "           1       0.53      0.77      0.63       628\n",
      "\n",
      "   micro avg       0.76      0.76      0.76      2325\n",
      "   macro avg       0.72      0.76      0.72      2325\n",
      "weighted avg       0.80      0.76      0.77      2325\n",
      "\n"
     ]
    }
   ],
   "source": [
    "nb=GaussianNB().fit(X_train,y_train)\n",
    "nb_pred=nb.predict(X_test)\n",
    "print('Accuracy Score: ',round(accuracy_score(y_test,nb_pred),3)*100)\n",
    "print(confusion_matrix(y_test,nb_pred))\n",
    "print(classification_report(y_test,nb_pred))"
   ]
  },
  {
   "cell_type": "code",
   "execution_count": 34,
   "metadata": {},
   "outputs": [],
   "source": [
    "Algorithm=['Logistic Regression','KNN','Random Forest','Blanced Weight LogisticR.','SVM','DecisionTree','NaiveBayes']\n",
    "j_Log=round(jaccard_similarity_score(y_test,lg_prediction)*100,2)\n",
    "j_knn=round(jaccard_similarity_score(y_test,knn_pred)*100,2)\n",
    "j_rfc=round(jaccard_similarity_score(y_test,rfc_pred)*100,2)\n",
    "j_balanced=round(jaccard_similarity_score(y_test,lg_pred_balanced)*100,2)\n",
    "j_svm=round(jaccard_similarity_score(y_test,svm_pred)*100,2)\n",
    "j_dt=round(jaccard_similarity_score(y_test,dt_pred)*100,2)\n",
    "j_nb=round(jaccard_similarity_score(y_test,nb_pred)*100,2)\n",
    "\n",
    "\n",
    "Jaccard=[j_Log,j_knn,j_rfc,j_balanced,j_svm,j_dt,j_nb]\n",
    "\n",
    "f1_knn=f1_score(y_test,knn_pred,average=None)\n",
    "f1_log=f1_score(y_test,lg_prediction,average=None)\n",
    "f1_rfc=f1_score(y_test,rfc_pred,average=None)\n",
    "f1_balanced=f1_score(y_test,lg_pred_balanced,average=None)\n",
    "f1_svm=f1_score(y_test,svm_pred,average=None)\n",
    "f1_dt=f1_score(y_test,dt_pred,average=None)\n",
    "f1_nb=f1_score(y_test,nb_pred,average=None)\n",
    "\n",
    "F1_score=[f1_log,f1_knn,f1_rfc,f1_balanced,f1_svm,f1_dt,f1_nb]"
   ]
  },
  {
   "cell_type": "markdown",
   "metadata": {},
   "source": [
    "### I used **Jaccard similarity** and F1-Score to estimate Accuracy of Models\n",
    "#####  **Jaccard Similarity coefficient score:**\n",
    "<img src=\"gL3oV.jpg\">"
   ]
  },
  {
   "cell_type": "code",
   "execution_count": 35,
   "metadata": {},
   "outputs": [],
   "source": [
    "Models_Evaluation = pd.DataFrame({\n",
    "    \"Algorithm\": Algorithm,\n",
    "    \"Jaccard Similarity\": Jaccard,\n",
    "    \"F1-Score\": F1_score})"
   ]
  },
  {
   "cell_type": "code",
   "execution_count": 36,
   "metadata": {},
   "outputs": [
    {
     "data": {
      "text/html": [
       "<div>\n",
       "<style scoped>\n",
       "    .dataframe tbody tr th:only-of-type {\n",
       "        vertical-align: middle;\n",
       "    }\n",
       "\n",
       "    .dataframe tbody tr th {\n",
       "        vertical-align: top;\n",
       "    }\n",
       "\n",
       "    .dataframe thead th {\n",
       "        text-align: right;\n",
       "    }\n",
       "</style>\n",
       "<table border=\"1\" class=\"dataframe\">\n",
       "  <thead>\n",
       "    <tr style=\"text-align: right;\">\n",
       "      <th></th>\n",
       "      <th>Algorithm</th>\n",
       "      <th>Jaccard Similarity</th>\n",
       "      <th>F1-Score</th>\n",
       "    </tr>\n",
       "  </thead>\n",
       "  <tbody>\n",
       "    <tr>\n",
       "      <th>0</th>\n",
       "      <td>Logistic Regression</td>\n",
       "      <td>80.99</td>\n",
       "      <td>[0.8761210762331838, 0.5914972273567468]</td>\n",
       "    </tr>\n",
       "    <tr>\n",
       "      <th>1</th>\n",
       "      <td>KNN</td>\n",
       "      <td>79.05</td>\n",
       "      <td>[0.8621568072459665, 0.5640107430617726]</td>\n",
       "    </tr>\n",
       "    <tr>\n",
       "      <th>2</th>\n",
       "      <td>Random Forest</td>\n",
       "      <td>80.65</td>\n",
       "      <td>[0.8748609566184651, 0.5730550284629982]</td>\n",
       "    </tr>\n",
       "    <tr>\n",
       "      <th>3</th>\n",
       "      <td>Blanced Weight LogisticR.</td>\n",
       "      <td>74.24</td>\n",
       "      <td>[0.8014584023864767, 0.633190447030006]</td>\n",
       "    </tr>\n",
       "    <tr>\n",
       "      <th>4</th>\n",
       "      <td>SVM</td>\n",
       "      <td>80.47</td>\n",
       "      <td>[0.8743078626799556, 0.5626204238921002]</td>\n",
       "    </tr>\n",
       "    <tr>\n",
       "      <th>5</th>\n",
       "      <td>DecisionTree</td>\n",
       "      <td>73.55</td>\n",
       "      <td>[0.8186375700383367, 0.5115170770452739]</td>\n",
       "    </tr>\n",
       "    <tr>\n",
       "      <th>6</th>\n",
       "      <td>NaiveBayes</td>\n",
       "      <td>75.61</td>\n",
       "      <td>[0.817860584645037, 0.631099544567339]</td>\n",
       "    </tr>\n",
       "  </tbody>\n",
       "</table>\n",
       "</div>"
      ],
      "text/plain": [
       "                   Algorithm  Jaccard Similarity  \\\n",
       "0        Logistic Regression               80.99   \n",
       "1                        KNN               79.05   \n",
       "2              Random Forest               80.65   \n",
       "3  Blanced Weight LogisticR.               74.24   \n",
       "4                        SVM               80.47   \n",
       "5               DecisionTree               73.55   \n",
       "6                 NaiveBayes               75.61   \n",
       "\n",
       "                                   F1-Score  \n",
       "0  [0.8761210762331838, 0.5914972273567468]  \n",
       "1  [0.8621568072459665, 0.5640107430617726]  \n",
       "2  [0.8748609566184651, 0.5730550284629982]  \n",
       "3   [0.8014584023864767, 0.633190447030006]  \n",
       "4  [0.8743078626799556, 0.5626204238921002]  \n",
       "5  [0.8186375700383367, 0.5115170770452739]  \n",
       "6    [0.817860584645037, 0.631099544567339]  "
      ]
     },
     "execution_count": 36,
     "metadata": {},
     "output_type": "execute_result"
    }
   ],
   "source": [
    "Models_Evaluation"
   ]
  },
  {
   "cell_type": "markdown",
   "metadata": {},
   "source": [
    "### After test models i can see that model is biased and classifiy most data in the first class(0), so i started searching for the problem of (Iimbalanced classes), and i have found that imblearn provided and algorithm called SMOTE (Synthetic Minority Over-sampling Technique),  and i will try to optimize algorithms (KNN, SVM,... etc.) using that algorithm and optimize precision  and recall of these algorithms."
   ]
  },
  {
   "cell_type": "code",
   "execution_count": 49,
   "metadata": {},
   "outputs": [],
   "source": [
    "from imblearn.over_sampling import SMOTE"
   ]
  },
  {
   "cell_type": "code",
   "execution_count": 50,
   "metadata": {},
   "outputs": [],
   "source": [
    "sm = SMOTE(random_state=2)\n",
    "X_train_res, y_train_res = sm.fit_sample(X_train, y_train.ravel())"
   ]
  },
  {
   "cell_type": "markdown",
   "metadata": {},
   "source": [
    "# Logistic Regression +SMOTE"
   ]
  },
  {
   "cell_type": "code",
   "execution_count": 69,
   "metadata": {},
   "outputs": [
    {
     "name": "stdout",
     "output_type": "stream",
     "text": [
      "Accuracy Score AFter SMOTE : 74.58064516129032\n",
      "[[1220  477]\n",
      " [ 114  514]]\n",
      "BEfore Using SMOTE \n",
      "\n",
      "              precision    recall  f1-score   support\n",
      "\n",
      "           0       0.84      0.92      0.88      1697\n",
      "           1       0.70      0.51      0.59       628\n",
      "\n",
      "   micro avg       0.81      0.81      0.81      2325\n",
      "   macro avg       0.77      0.72      0.73      2325\n",
      "weighted avg       0.80      0.81      0.80      2325\n",
      "\n",
      "After Using SMOTE \n",
      "\n",
      "              precision    recall  f1-score   support\n",
      "\n",
      "           0       0.91      0.72      0.81      1697\n",
      "           1       0.52      0.82      0.63       628\n",
      "\n",
      "   micro avg       0.75      0.75      0.75      2325\n",
      "   macro avg       0.72      0.77      0.72      2325\n",
      "weighted avg       0.81      0.75      0.76      2325\n",
      "\n"
     ]
    }
   ],
   "source": [
    "lg_sm=LogisticRegression().fit(X_train_res,y_train_res)\n",
    "new_lg=lg_sm.predict(X_test)\n",
    "print('Accuracy Score AFter SMOTE :',accuracy_score(y_test,new_lg)*100)\n",
    "print(confusion_matrix(y_test,new_lg))\n",
    "print(\"BEfore Using SMOTE\",'\\n')\n",
    "print(classification_report(y_test,lg_prediction))\n",
    "print(\"After Using SMOTE\",'\\n')\n",
    "print(classification_report(y_test,new_lg))"
   ]
  },
  {
   "cell_type": "markdown",
   "metadata": {},
   "source": [
    "# KNN + SMOTE"
   ]
  },
  {
   "cell_type": "code",
   "execution_count": 136,
   "metadata": {
    "scrolled": true
   },
   "outputs": [
    {
     "name": "stdout",
     "output_type": "stream",
     "text": [
      "1 :  0.701505376344086\n",
      "2 :  0.7294623655913979\n",
      "3 :  0.6894623655913978\n",
      "4 :  0.7182795698924731\n",
      "5 :  0.6855913978494623\n",
      "6 :  0.715268817204301\n",
      "7 :  0.6886021505376344\n",
      "8 :  0.7126881720430107\n",
      "9 :  0.690752688172043\n",
      "10 :  0.7161290322580646\n",
      "11 :  0.690752688172043\n",
      "12 :  0.7075268817204301\n",
      "13 :  0.6911827956989247\n",
      "14 :  0.7083870967741935\n",
      "15 :  0.693763440860215\n",
      "16 :  0.7053763440860215\n",
      "17 :  0.6894623655913978\n",
      "18 :  0.7002150537634408\n",
      "19 :  0.6817204301075269\n",
      "20 :  0.6941935483870968\n",
      "21 :  0.6812903225806451\n",
      "22 :  0.6929032258064516\n",
      "23 :  0.683010752688172\n",
      "24 :  0.6920430107526881\n",
      "25 :  0.6855913978494623\n",
      "26 :  0.6972043010752688\n",
      "27 :  0.6881720430107527\n",
      "28 :  0.693763440860215\n",
      "29 :  0.6916129032258065\n",
      "30 :  0.6924731182795699\n",
      "31 :  0.6920430107526881\n",
      "32 :  0.6997849462365592\n",
      "33 :  0.6954838709677419\n",
      "34 :  0.701505376344086\n",
      "35 :  0.6972043010752688\n",
      "36 :  0.701505376344086\n",
      "37 :  0.693763440860215\n",
      "38 :  0.6980645161290323\n",
      "39 :  0.6933333333333334\n",
      "40 :  0.7002150537634408\n",
      "41 :  0.6972043010752688\n",
      "42 :  0.7049462365591398\n",
      "43 :  0.6980645161290323\n",
      "44 :  0.7036559139784946\n",
      "45 :  0.7002150537634408\n",
      "46 :  0.7032258064516129\n",
      "47 :  0.698494623655914\n",
      "48 :  0.7023655913978495\n",
      "49 :  0.6989247311827957\n",
      "50 :  0.7002150537634408\n",
      "51 :  0.6963440860215053\n",
      "52 :  0.6976344086021505\n",
      "53 :  0.6963440860215053\n",
      "54 :  0.698494623655914\n",
      "55 :  0.6972043010752688\n",
      "56 :  0.6993548387096774\n",
      "57 :  0.6972043010752688\n",
      "58 :  0.7023655913978495\n",
      "59 :  0.6967741935483871\n",
      "60 :  0.7002150537634408\n",
      "61 :  0.6954838709677419\n",
      "62 :  0.701505376344086\n",
      "63 :  0.6967741935483871\n",
      "64 :  0.701505376344086\n",
      "65 :  0.693763440860215\n",
      "66 :  0.6976344086021505\n",
      "67 :  0.6920430107526881\n",
      "68 :  0.6950537634408602\n",
      "69 :  0.6950537634408602\n",
      "70 :  0.6980645161290323\n",
      "71 :  0.693763440860215\n",
      "72 :  0.6963440860215053\n",
      "73 :  0.6924731182795699\n",
      "74 :  0.6976344086021505\n",
      "75 :  0.6916129032258065\n",
      "76 :  0.6959139784946237\n",
      "77 :  0.6933333333333334\n",
      "78 :  0.6972043010752688\n",
      "79 :  0.6954838709677419\n",
      "80 :  0.6967741935483871\n",
      "81 :  0.6916129032258065\n",
      "82 :  0.6950537634408602\n",
      "83 :  0.6894623655913978\n",
      "84 :  0.6950537634408602\n",
      "85 :  0.690752688172043\n",
      "86 :  0.6933333333333334\n",
      "87 :  0.6911827956989247\n",
      "88 :  0.693763440860215\n",
      "89 :  0.6911827956989247\n",
      "90 :  0.6954838709677419\n",
      "91 :  0.6894623655913978\n",
      "92 :  0.6933333333333334\n",
      "93 :  0.6898924731182796\n",
      "94 :  0.6929032258064516\n",
      "95 :  0.6894623655913978\n",
      "96 :  0.6916129032258065\n",
      "97 :  0.687741935483871\n",
      "98 :  0.6903225806451613\n",
      "99 :  0.6898924731182796\n"
     ]
    }
   ],
   "source": [
    "score=[]\n",
    "for k in range(1,100):\n",
    "    knn=KNeighborsClassifier(n_neighbors=k,weights='uniform')\n",
    "    knn.fit(X_train_res,y_train_res)\n",
    "    predKNN=knn.predict(X_test)\n",
    "    accuracy=metrics.accuracy_score(predKNN,y_test)\n",
    "    score.append(accuracy*100)\n",
    "    print (k,': ',accuracy)"
   ]
  },
  {
   "cell_type": "code",
   "execution_count": 56,
   "metadata": {},
   "outputs": [
    {
     "name": "stdout",
     "output_type": "stream",
     "text": [
      "Accuracy score after SMOTE 71.5268817204301\n",
      "[[1232  465]\n",
      " [ 197  431]] \n",
      "\n",
      "BEfore Using SMOTE \n",
      "\n",
      "              precision    recall  f1-score   support\n",
      "\n",
      "           0       0.83      0.90      0.86      1697\n",
      "           1       0.64      0.50      0.56       628\n",
      "\n",
      "   micro avg       0.79      0.79      0.79      2325\n",
      "   macro avg       0.74      0.70      0.71      2325\n",
      "weighted avg       0.78      0.79      0.78      2325\n",
      "\n",
      "After Using SMOTE \n",
      "\n",
      "              precision    recall  f1-score   support\n",
      "\n",
      "           0       0.86      0.73      0.79      1697\n",
      "           1       0.48      0.69      0.57       628\n",
      "\n",
      "   micro avg       0.72      0.72      0.72      2325\n",
      "   macro avg       0.67      0.71      0.68      2325\n",
      "weighted avg       0.76      0.72      0.73      2325\n",
      "\n"
     ]
    }
   ],
   "source": [
    "knn_smo=KNeighborsClassifier(n_neighbors=6).fit(X_train_res,y_train_res)\n",
    "new_knn=knn_smo.predict(X_test)\n",
    "print('Accuracy score after SMOTE',accuracy_score(y_test,new_knn)*100)\n",
    "print(confusion_matrix(y_test,new_knn),'\\n')\n",
    "print(\"BEfore Using SMOTE\",'\\n')\n",
    "print(classification_report(y_test,knn_pred))\n",
    "print(\"After Using SMOTE\",'\\n')\n",
    "print(classification_report(y_test,new_knn))"
   ]
  },
  {
   "cell_type": "markdown",
   "metadata": {},
   "source": [
    "# Random Forest +SMOTE"
   ]
  },
  {
   "cell_type": "code",
   "execution_count": 58,
   "metadata": {},
   "outputs": [
    {
     "name": "stdout",
     "output_type": "stream",
     "text": [
      "Accuracy score After SMOTE IS:  78.66666666666666\n",
      "[[1434  263]\n",
      " [ 233  395]] \n",
      "\n",
      "BEfore Using SMOTE \n",
      "\n",
      "              precision    recall  f1-score   support\n",
      "\n",
      "           0       0.83      0.92      0.87      1697\n",
      "           1       0.69      0.48      0.57       628\n",
      "\n",
      "   micro avg       0.80      0.80      0.80      2325\n",
      "   macro avg       0.76      0.70      0.72      2325\n",
      "weighted avg       0.79      0.80      0.79      2325\n",
      "\n",
      "After Using SMOTE \n",
      "\n",
      "              precision    recall  f1-score   support\n",
      "\n",
      "           0       0.86      0.85      0.85      1697\n",
      "           1       0.60      0.63      0.61       628\n",
      "\n",
      "   micro avg       0.79      0.79      0.79      2325\n",
      "   macro avg       0.73      0.74      0.73      2325\n",
      "weighted avg       0.79      0.79      0.79      2325\n",
      "\n"
     ]
    }
   ],
   "source": [
    "rfc_smo=RandomForestClassifier(max_depth=15,max_features='log2',min_samples_leaf=1,n_estimators=200).fit(X_train_res,y_train_res)\n",
    "new_rfc=rfc_smo.predict(X_test)\n",
    "print('Accuracy score After SMOTE IS: ',accuracy_score(y_test,new_rfc)*100)\n",
    "print(confusion_matrix(y_test,new_rfc),'\\n')\n",
    "print(\"BEfore Using SMOTE\",'\\n')\n",
    "print(classification_report(y_test,rfc_pred))\n",
    "print(\"After Using SMOTE\",'\\n')\n",
    "print(classification_report(y_test,new_rfc))"
   ]
  },
  {
   "cell_type": "code",
   "execution_count": 143,
   "metadata": {},
   "outputs": [
    {
     "data": {
      "text/plain": [
       "GridSearchCV(cv=None, error_score='raise',\n",
       "       estimator=RandomForestClassifier(bootstrap=True, class_weight=None, criterion='gini',\n",
       "            max_depth=None, max_features='auto', max_leaf_nodes=None,\n",
       "            min_impurity_decrease=0.0, min_impurity_split=None,\n",
       "            min_samples_leaf=1, min_samples_split=2,\n",
       "            min_weight_fraction_leaf=0.0, n_estimators=10, n_jobs=1,\n",
       "            oob_score=False, random_state=None, verbose=0,\n",
       "            warm_start=False),\n",
       "       fit_params=None, iid=True, n_jobs=1,\n",
       "       param_grid={'n_estimators': [50, 100, 150, 200], 'max_depth': [None, 30, 15, 5], 'max_features': ['auto', 'sqrt', 'log2'], 'min_samples_leaf': [1, 20, 50, 100]},\n",
       "       pre_dispatch='2*n_jobs', refit=True, return_train_score='warn',\n",
       "       scoring='accuracy', verbose=0)"
      ]
     },
     "execution_count": 143,
     "metadata": {},
     "output_type": "execute_result"
    }
   ],
   "source": [
    "grid_values={'n_estimators':[50,100,150,200],'max_depth':[None,30,15,5],\n",
    "               'max_features':['auto','sqrt','log2'],'min_samples_leaf':[1,20,50,100]}\n",
    "grid_rf = GridSearchCV(rfc_smo,param_grid=grid_values,scoring='accuracy')\n",
    "grid_rf.fit(X_train_res, y_train_res)"
   ]
  },
  {
   "cell_type": "code",
   "execution_count": 144,
   "metadata": {},
   "outputs": [
    {
     "data": {
      "text/plain": [
       "{'max_depth': 15,\n",
       " 'max_features': 'log2',\n",
       " 'min_samples_leaf': 1,\n",
       " 'n_estimators': 200}"
      ]
     },
     "execution_count": 144,
     "metadata": {},
     "output_type": "execute_result"
    }
   ],
   "source": [
    "grid_rf.best_params_"
   ]
  },
  {
   "cell_type": "markdown",
   "metadata": {},
   "source": [
    "# Decision Tree +SMOTE"
   ]
  },
  {
   "cell_type": "code",
   "execution_count": 60,
   "metadata": {},
   "outputs": [
    {
     "name": "stdout",
     "output_type": "stream",
     "text": [
      "0.7470967741935484\n",
      "[[1390  307]\n",
      " [ 281  347]] \n",
      "\n",
      "BEfore Using SMOTE \n",
      "\n",
      "              precision    recall  f1-score   support\n",
      "\n",
      "           0       0.82      0.82      0.82      1697\n",
      "           1       0.51      0.51      0.51       628\n",
      "\n",
      "   micro avg       0.74      0.74      0.74      2325\n",
      "   macro avg       0.67      0.67      0.67      2325\n",
      "weighted avg       0.74      0.74      0.74      2325\n",
      "\n",
      "After Using SMOTE \n",
      "\n",
      "              precision    recall  f1-score   support\n",
      "\n",
      "           0       0.83      0.82      0.83      1697\n",
      "           1       0.53      0.55      0.54       628\n",
      "\n",
      "   micro avg       0.75      0.75      0.75      2325\n",
      "   macro avg       0.68      0.69      0.68      2325\n",
      "weighted avg       0.75      0.75      0.75      2325\n",
      "\n"
     ]
    }
   ],
   "source": [
    "dt_smo=DecisionTreeClassifier().fit(X_train_res,y_train_res)\n",
    "new_dt=dt_smo.predict(X_test)\n",
    "print(accuracy_score(y_test,new_dt))\n",
    "print(confusion_matrix(y_test,new_dt),'\\n')\n",
    "print(\"BEfore Using SMOTE\",'\\n')\n",
    "print(classification_report(y_test,dt_pred))\n",
    "print(\"After Using SMOTE\",'\\n')\n",
    "print(classification_report(y_test,new_dt))"
   ]
  },
  {
   "cell_type": "markdown",
   "metadata": {},
   "source": [
    "# SVM +SMOTE"
   ]
  },
  {
   "cell_type": "code",
   "execution_count": 70,
   "metadata": {},
   "outputs": [
    {
     "name": "stdout",
     "output_type": "stream",
     "text": [
      "0.7462365591397849\n",
      "[[1232  465]\n",
      " [ 125  503]] \n",
      "\n",
      "BEfore Using SMOTE \n",
      "\n",
      "              precision    recall  f1-score   support\n",
      "\n",
      "           0       0.82      0.93      0.87      1697\n",
      "           1       0.71      0.46      0.56       628\n",
      "\n",
      "   micro avg       0.80      0.80      0.80      2325\n",
      "   macro avg       0.77      0.70      0.72      2325\n",
      "weighted avg       0.79      0.80      0.79      2325\n",
      "\n",
      "After Using SMOTE \n",
      "\n",
      "              precision    recall  f1-score   support\n",
      "\n",
      "           0       0.91      0.73      0.81      1697\n",
      "           1       0.52      0.80      0.63       628\n",
      "\n",
      "   micro avg       0.75      0.75      0.75      2325\n",
      "   macro avg       0.71      0.76      0.72      2325\n",
      "weighted avg       0.80      0.75      0.76      2325\n",
      "\n"
     ]
    }
   ],
   "source": [
    "svm_smo=SVC(kernel='rbf').fit(X_train_res,y_train_res)\n",
    "new_svm=svm_smo.predict(X_test)\n",
    "print(accuracy_score(y_test,new_svm))\n",
    "print(confusion_matrix(y_test,new_svm),'\\n')\n",
    "print(\"BEfore Using SMOTE\",'\\n')\n",
    "print(classification_report(y_test,svm_pred))\n",
    "print(\"After Using SMOTE\",'\\n')\n",
    "print(classification_report(y_test,new_svm))"
   ]
  },
  {
   "cell_type": "markdown",
   "metadata": {},
   "source": [
    "# Naive Bayes +SMOTE"
   ]
  },
  {
   "cell_type": "code",
   "execution_count": 74,
   "metadata": {},
   "outputs": [
    {
     "name": "stdout",
     "output_type": "stream",
     "text": [
      "0.7389247311827957\n",
      "[[1202  495]\n",
      " [ 112  516]] \n",
      "\n",
      "BEfore Using SMOTE \n",
      "\n",
      "              precision    recall  f1-score   support\n",
      "\n",
      "           0       0.90      0.75      0.82      1697\n",
      "           1       0.53      0.77      0.63       628\n",
      "\n",
      "   micro avg       0.76      0.76      0.76      2325\n",
      "   macro avg       0.72      0.76      0.72      2325\n",
      "weighted avg       0.80      0.76      0.77      2325\n",
      "\n",
      "BEfore Using SMOTE \n",
      "\n",
      "              precision    recall  f1-score   support\n",
      "\n",
      "           0       0.91      0.71      0.80      1697\n",
      "           1       0.51      0.82      0.63       628\n",
      "\n",
      "   micro avg       0.74      0.74      0.74      2325\n",
      "   macro avg       0.71      0.76      0.71      2325\n",
      "weighted avg       0.81      0.74      0.75      2325\n",
      "\n"
     ]
    }
   ],
   "source": [
    "nb_smo=GaussianNB().fit(X_train_res,y_train_res)\n",
    "nb_dt=nb_smo.predict(X_test)\n",
    "print(accuracy_score(y_test,nb_dt))\n",
    "print(confusion_matrix(y_test,nb_dt),'\\n')\n",
    "print(\"BEfore Using SMOTE\",'\\n')\n",
    "print(classification_report(y_test,nb_pred))\n",
    "print(\"BEfore Using SMOTE\",'\\n')\n",
    "print(classification_report(y_test,nb_dt))"
   ]
  },
  {
   "cell_type": "markdown",
   "metadata": {},
   "source": [
    "# Over Sampling using RandomOverSampler"
   ]
  },
  {
   "cell_type": "code",
   "execution_count": 41,
   "metadata": {},
   "outputs": [],
   "source": [
    "overSample = RandomOverSampler(random_state=10)\n",
    "X_over, y_over = overSample.fit_resample(X, y)"
   ]
  },
  {
   "cell_type": "code",
   "execution_count": 42,
   "metadata": {},
   "outputs": [],
   "source": [
    "X_train, X_test, y_train, y_test = train_test_split(X_over, y_over, test_size=0.33, random_state=42)"
   ]
  },
  {
   "cell_type": "markdown",
   "metadata": {},
   "source": [
    "# Logistic Regression + RandomOverSampler"
   ]
  },
  {
   "cell_type": "code",
   "execution_count": 78,
   "metadata": {},
   "outputs": [
    {
     "name": "stdout",
     "output_type": "stream",
     "text": [
      "Accuracy Score AFter RandomOverSampler : 76.95461200585652\n",
      "[[1273  457]\n",
      " [ 330 1355]]\n",
      "              precision    recall  f1-score   support\n",
      "\n",
      "           0       0.79      0.74      0.76      1730\n",
      "           1       0.75      0.80      0.77      1685\n",
      "\n",
      "   micro avg       0.77      0.77      0.77      3415\n",
      "   macro avg       0.77      0.77      0.77      3415\n",
      "weighted avg       0.77      0.77      0.77      3415\n",
      "\n",
      "Train ACC.: 0.7575364200201933\n"
     ]
    }
   ],
   "source": [
    "lg_over=LogisticRegression().fit(X_train,y_train)\n",
    "new_lg_over=lg_over.predict(X_test)\n",
    "print('Accuracy Score AFter RandomOverSampler :',accuracy_score(y_test,new_lg_over)*100)\n",
    "print(confusion_matrix(y_test,new_lg_over))\n",
    "print(classification_report(y_test,new_lg_over))\n",
    "print('Train ACC.:',lg_over.score(X_train,y_train))"
   ]
  },
  {
   "cell_type": "markdown",
   "metadata": {},
   "source": [
    "# KNN + RandomOverSampler"
   ]
  },
  {
   "cell_type": "code",
   "execution_count": 82,
   "metadata": {},
   "outputs": [
    {
     "name": "stdout",
     "output_type": "stream",
     "text": [
      "Accuracy score after RandomOverSampler 76.54465592972181\n",
      "[[1198  532]\n",
      " [ 269 1416]] \n",
      "\n",
      "              precision    recall  f1-score   support\n",
      "\n",
      "           0       0.82      0.69      0.75      1730\n",
      "           1       0.73      0.84      0.78      1685\n",
      "\n",
      "   micro avg       0.77      0.77      0.77      3415\n",
      "   macro avg       0.77      0.77      0.76      3415\n",
      "weighted avg       0.77      0.77      0.76      3415\n",
      "\n",
      "Train ACC.: 0.8257608538872061\n"
     ]
    }
   ],
   "source": [
    "knn_over=KNeighborsClassifier(n_neighbors=5).fit(X_train,y_train)\n",
    "new_knn_over=knn_over.predict(X_test)\n",
    "print('Accuracy score after RandomOverSampler',accuracy_score(y_test,new_knn_over)*100)\n",
    "print(confusion_matrix(y_test,new_knn_over),'\\n')\n",
    "print(classification_report(y_test,new_knn_over))\n",
    "print('Train ACC.:',knn_over.score(X_train,y_train))"
   ]
  },
  {
   "cell_type": "markdown",
   "metadata": {},
   "source": [
    "# Random Forest+ RandomOverSampler"
   ]
  },
  {
   "cell_type": "code",
   "execution_count": 63,
   "metadata": {},
   "outputs": [
    {
     "name": "stdout",
     "output_type": "stream",
     "text": [
      "Accuracy score After RandomOverSampler:  87.61346998535872\n",
      "[[1391  339]\n",
      " [  84 1601]] \n",
      "\n",
      "              precision    recall  f1-score   support\n",
      "\n",
      "           0       0.94      0.80      0.87      1730\n",
      "           1       0.83      0.95      0.88      1685\n",
      "\n",
      "   micro avg       0.88      0.88      0.88      3415\n",
      "   macro avg       0.88      0.88      0.88      3415\n",
      "weighted avg       0.88      0.88      0.88      3415\n",
      "\n",
      "0.9701427953266984\n"
     ]
    }
   ],
   "source": [
    "rfc_over=RandomForestClassifier(max_depth=14,max_features='log2',min_samples_leaf=1,n_estimators=50).fit(X_train,y_train)\n",
    "new_rfc_over=rfc_over.predict(X_test)\n",
    "print('Accuracy score After RandomOverSampler: ',accuracy_score(y_test,new_rfc_over)*100)\n",
    "print(confusion_matrix(y_test,new_rfc_over),'\\n')\n",
    "print(classification_report(y_test,new_rfc_over))\n",
    "print('Train ACC.:',rfc_over.score(X_train,y_train))"
   ]
  },
  {
   "cell_type": "markdown",
   "metadata": {},
   "source": [
    "# Decision Tree + RandomOverSampler"
   ]
  },
  {
   "cell_type": "code",
   "execution_count": 71,
   "metadata": {},
   "outputs": [
    {
     "name": "stdout",
     "output_type": "stream",
     "text": [
      "Decision Tree Accuracy After RandomOverSampler 80.32\n",
      "[[1370  360]\n",
      " [ 312 1373]] \n",
      "\n",
      "              precision    recall  f1-score   support\n",
      "\n",
      "           0       0.81      0.79      0.80      1730\n",
      "           1       0.79      0.81      0.80      1685\n",
      "\n",
      "   micro avg       0.80      0.80      0.80      3415\n",
      "   macro avg       0.80      0.80      0.80      3415\n",
      "weighted avg       0.80      0.80      0.80      3415\n",
      "\n",
      "Train ACC.:  0.9112938122025097\n"
     ]
    }
   ],
   "source": [
    "dt_over=DecisionTreeClassifier(min_samples_leaf=4).fit(X_train,y_train)\n",
    "new_dt_over=dt_over.predict(X_test)\n",
    "print('Decision Tree Accuracy After RandomOverSampler',round(accuracy_score(y_test,new_dt_over)*100,2))\n",
    "print(confusion_matrix(y_test,new_dt_over),'\\n')\n",
    "print(classification_report(y_test,new_dt_over))\n",
    "print('Train ACC.: ',dt_over.score(X_train,y_train))"
   ]
  },
  {
   "cell_type": "markdown",
   "metadata": {},
   "source": [
    "# SVM (Poly kernel)+ RandomOverSampler"
   ]
  },
  {
   "cell_type": "code",
   "execution_count": 83,
   "metadata": {},
   "outputs": [
    {
     "name": "stdout",
     "output_type": "stream",
     "text": [
      "Accuracy After RandomOverSampler 77.63\n",
      "[[1242  488]\n",
      " [ 276 1409]] \n",
      "\n",
      "              precision    recall  f1-score   support\n",
      "\n",
      "           0       0.82      0.72      0.76      1730\n",
      "           1       0.74      0.84      0.79      1685\n",
      "\n",
      "   micro avg       0.78      0.78      0.78      3415\n",
      "   macro avg       0.78      0.78      0.78      3415\n",
      "weighted avg       0.78      0.78      0.78      3415\n",
      "\n",
      "Train ACC.: 0.7771527477282562\n"
     ]
    }
   ],
   "source": [
    "svm_over=SVC(kernel='poly').fit(X_train,y_train)\n",
    "new_svm_over=svm_over.predict(X_test)\n",
    "print(\"Accuracy After RandomOverSampler\",round(accuracy_score(y_test,new_svm_over)*100,2))\n",
    "print(confusion_matrix(y_test,new_svm_over),'\\n')\n",
    "print(classification_report(y_test,new_svm_over))\n",
    "print('Train ACC.:',svm_over.score(X_train,y_train))"
   ]
  },
  {
   "cell_type": "markdown",
   "metadata": {},
   "source": [
    "# Naive Bayes + RandomOverSampler"
   ]
  },
  {
   "cell_type": "code",
   "execution_count": 84,
   "metadata": {},
   "outputs": [
    {
     "name": "stdout",
     "output_type": "stream",
     "text": [
      "Accuracy of NB After RandomOverSampler 75.84\n",
      "[[1250  480]\n",
      " [ 345 1340]] \n",
      "\n",
      "              precision    recall  f1-score   support\n",
      "\n",
      "           0       0.78      0.72      0.75      1730\n",
      "           1       0.74      0.80      0.76      1685\n",
      "\n",
      "   micro avg       0.76      0.76      0.76      3415\n",
      "   macro avg       0.76      0.76      0.76      3415\n",
      "weighted avg       0.76      0.76      0.76      3415\n",
      "\n",
      "Train ACC.: 0.7496033463147267\n"
     ]
    }
   ],
   "source": [
    "nb_over=GaussianNB().fit(X_train,y_train)\n",
    "nb_dt_over=nb_over.predict(X_test)\n",
    "print('Accuracy of NB After RandomOverSampler',round(accuracy_score(y_test,nb_dt_over)*100,2))\n",
    "print(confusion_matrix(y_test,nb_dt_over),'\\n')\n",
    "print(classification_report(y_test,nb_dt_over))\n",
    "print('Train ACC.:',nb_over.score(X_train,y_train))"
   ]
  },
  {
   "cell_type": "markdown",
   "metadata": {},
   "source": [
    "### Refrences:\n",
    "- https://machinelearningmastery.com/tactics-to-combat-imbalanced-classes-in-your-machine-learning-dataset/\n",
    "- https://www.kaggle.com/gargmanish/how-to-handle-imbalance-data-study-in-detail\n",
    "- https://imbalanced-learn.readthedocs.io/en/stable/over_sampling.html#smote-adasyn\n",
    "- https://imbalanced-learn.readthedocs.io/en/stable/generated/imblearn.over_sampling.SMOTE.html\n",
    "- https://imbalanced-learn.readthedocs.io/en/stable/over_sampling.html\n",
    "- https://www.datacamp.com/community/tutorials/diving-deep-imbalanced-data"
   ]
  },
  {
   "cell_type": "code",
   "execution_count": null,
   "metadata": {},
   "outputs": [],
   "source": []
  }
 ],
 "metadata": {
  "kernelspec": {
   "display_name": "Python 3",
   "language": "python",
   "name": "python3"
  },
  "language_info": {
   "codemirror_mode": {
    "name": "ipython",
    "version": 3
   },
   "file_extension": ".py",
   "mimetype": "text/x-python",
   "name": "python",
   "nbconvert_exporter": "python",
   "pygments_lexer": "ipython3",
   "version": "3.6.6"
  }
 },
 "nbformat": 4,
 "nbformat_minor": 2
}
